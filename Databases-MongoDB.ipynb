{
 "cells": [
  {
   "cell_type": "code",
   "execution_count": null,
   "id": "9c5d7171-7c22-4951-a757-8c435abfe4f5",
   "metadata": {},
   "outputs": [],
   "source": [
    "Q1. What is MongoDB? Explain non-relational databases in short. In which scenarios it is preferred to use\n",
    "MongoDB over SQL databases?\n",
    "\n",
    "MongoDB is a popular open-source NoSQL database system that falls under the category of non-relational databases. NoSQL, which stands for \"not only SQL,\" is a type of database that provides a mechanism for storage and retrieval of data that is modeled in ways other than the tabular relations used in relational databases like SQL.\n",
    "Non-relational databases, or NoSQL databases, are designed to handle various types of data and can be more flexible and scalable than traditional relational databases. Unlike relational databases, which use a structured schema and tables, NoSQL databases can store and retrieve data in various formats such as key-value pairs, document-oriented collections, column-family stores, or graph databases. \n",
    "This flexibility makes them well-suited for handling unstructured or semi-structured data and adapting to changing data requirements.\n",
    "MongoDB, in particular, is a document-oriented NoSQL database, where data is stored in flexible, JSON-like BSON (Binary JSON) documents. These documents can have different fields and structures, allowing for dynamic and schema-less data models. MongoDB is known for its scalability, high performance, and ease of use.\n",
    "\n",
    "Scenarios where MongoDB might be preferred over traditional SQL databases include:\n",
    "1.Scalability and Performance:\n",
    "  MongoDB is designed to scale horizontally across multiple servers, making it well-suited for handling large amounts of data and high traffic loads. It can distribute data across multiple servers and handle read and write operations efficiently.\n",
    "2.Flexible Schema:\n",
    "  MongoDB's flexible schema allows developers to work with data without a predefined structure. This is particularly useful in scenarios where the data structure is evolving or not well-defined upfront.\n",
    "3.Document-Oriented Data:\n",
    "  If your data is naturally represented as a collection of documents (like JSON or BSON), MongoDB provides a natural and efficient way to store and query such data.\n",
    "4.Real-time Applications:\n",
    "  MongoDB's ability to handle large volumes of real-time data makes it suitable for applications that require fast and dynamic access to data, such as content management systems, e-commerce platforms, and real-time analytics.\n",
    "5.Agile Development:\n",
    "  MongoDB's schema-less design allows for more agile development and iteration, as changes to the data model can be made without requiring a complex and time-consuming schema migration process."
   ]
  },
  {
   "cell_type": "code",
   "execution_count": null,
   "id": "f97eee71-ec5d-4754-aae2-2a406c56e0a7",
   "metadata": {},
   "outputs": [],
   "source": [
    "Q2. State and Explain the features of MongoDB.\n",
    "\n",
    "MongoDB, being a popular NoSQL database, comes with several features that contribute to its flexibility, scalability, and ease of use. \n",
    "Here are some key features of MongoDB:\n",
    "1.Document-Oriented:\n",
    "  MongoDB stores data in flexible, JSON-like BSON documents. Each document can have a different structure, and fields can vary across documents in the same collection. This allows for a more natural representation of complex data structures.\n",
    "2.Schema-less Design:\n",
    "  Unlike traditional relational databases, MongoDB does not enforce a fixed schema. This means that documents in a collection can have different fields, and new fields can be added without affecting existing documents. This flexibility is beneficial in dynamic and evolving data environments.\n",
    "3.Dynamic Queries:\n",
    "  MongoDB supports dynamic queries on documents using a rich query language. It allows for complex queries, including field selection, sorting, and filtering based on various criteria. Queries can also be expressed as JSON-like documents, making them easy to understand and manipulate.\n",
    "4.Indexing:\n",
    "  MongoDB supports indexing on fields, which enhances query performance by allowing the database to locate and retrieve data more efficiently. Indexes can be created on single fields or combinations of fields, providing flexibility in optimizing query performance.\n",
    "5.Aggregation Framework:\n",
    "  MongoDB provides a powerful aggregation framework that allows for data transformation and analysis. It supports a pipeline-based approach, where documents pass through various stages, such as filtering, grouping, sorting, and projecting, to achieve the desired result.\n",
    "6.Horizontal Scalability:\n",
    "  MongoDB is designed to scale horizontally, allowing for the distribution of data across multiple servers or clusters. This makes it suitable for handling large amounts of data and high traffic loads by adding more servers to the infrastructure.\n",
    "7.Sharding:\n",
    "  MongoDB supports sharding, which is a method of distributing data across multiple servers. Sharding improves horizontal scalability by partitioning data and distributing it among different shards or nodes. This helps in achieving better performance and handling larger datasets."
   ]
  },
  {
   "cell_type": "code",
   "execution_count": null,
   "id": "0b212915-790f-47f3-8750-d83175e3631c",
   "metadata": {},
   "outputs": [],
   "source": [
    "Q3. Write a code to connect MongoDB to Python. Also, create a database and a collection in MongoDB.\n"
   ]
  },
  {
   "cell_type": "code",
   "execution_count": 1,
   "id": "4e3db4da-21c5-40dd-9062-c1668203f59d",
   "metadata": {},
   "outputs": [
    {
     "name": "stdout",
     "output_type": "stream",
     "text": [
      "Collecting pymongo\n",
      "  Downloading pymongo-4.6.0-cp310-cp310-manylinux_2_17_x86_64.manylinux2014_x86_64.whl (677 kB)\n",
      "\u001b[2K     \u001b[90m━━━━━━━━━━━━━━━━━━━━━━━━━━━━━━━━━━━━━━\u001b[0m \u001b[32m677.1/677.1 kB\u001b[0m \u001b[31m15.2 MB/s\u001b[0m eta \u001b[36m0:00:00\u001b[0m00:01\u001b[0m\n",
      "\u001b[?25hCollecting dnspython<3.0.0,>=1.16.0\n",
      "  Downloading dnspython-2.4.2-py3-none-any.whl (300 kB)\n",
      "\u001b[2K     \u001b[90m━━━━━━━━━━━━━━━━━━━━━━━━━━━━━━━━━━━━━━\u001b[0m \u001b[32m300.4/300.4 kB\u001b[0m \u001b[31m37.3 MB/s\u001b[0m eta \u001b[36m0:00:00\u001b[0m\n",
      "\u001b[?25hInstalling collected packages: dnspython, pymongo\n",
      "Successfully installed dnspython-2.4.2 pymongo-4.6.0\n",
      "Note: you may need to restart the kernel to use updated packages.\n"
     ]
    }
   ],
   "source": [
    "pip install pymongo"
   ]
  },
  {
   "cell_type": "code",
   "execution_count": null,
   "id": "4a27940d-3c42-4dbe-afc3-531f7cd6e9d8",
   "metadata": {},
   "outputs": [],
   "source": [
    "import pymongo\n",
    "\n",
    "# MongoDB connection parameters\n",
    "mongo_client = pymongo.MongoClient(\"mongodb://localhost:27017/\")  # Replace with your MongoDB connection string\n",
    "\n",
    "# Create or access a database\n",
    "my_database = mongo_client[\"my_database\"]\n",
    "\n",
    "# Create or access a collection within the database\n",
    "my_collection = my_database[\"my_collection\"]\n",
    "\n",
    "# Insert a document into the collection\n",
    "document_to_insert = {\n",
    "    \"name\": \"John Doe\",\n",
    "    \"age\": 30,\n",
    "    \"email\": \"john.doe@example.com\"\n",
    "}\n",
    "\n",
    "# Insert the document into the collection\n",
    "insert_result = my_collection.insert_one(document_to_insert)\n",
    "\n",
    "# Print the inserted document's ID\n",
    "print(\"Document ID:\", insert_result.inserted_id)\n",
    "\n",
    "# Close the MongoDB connection\n",
    "mongo_client.close()"
   ]
  },
  {
   "cell_type": "code",
   "execution_count": null,
   "id": "406ff37e-9cb6-449f-a645-54ed650c8163",
   "metadata": {},
   "outputs": [],
   "source": [
    "Explanation:\n",
    "\n",
    "MongoDB Connection:\n",
    "  Use pymongo.MongoClient to create a connection to the MongoDB server. Replace the connection string with your MongoDB server details.\n",
    "Create or Access Database:\n",
    "  Use mongo_client[\"my_database\"] to create or access a database named \"my_database\". Replace \"my_database\" with the desired database name.\n",
    "Create or Access Collection:\n",
    "  Use my_database[\"my_collection\"] to create or access a collection named \"my_collection\" within the database. Replace \"my_collection\" with the desired collection name.\n",
    "Insert Document into Collection:\n",
    "  Create a document (a dictionary in this case) and use my_collection.insert_one(document_to_insert) to insert the document into the collection.\n",
    "Print Inserted Document ID:\n",
    "  Print the ID of the inserted document using insert_result.inserted_id.\n",
    "Close MongoDB Connection:\n",
    "  It's good practice to close the MongoDB connection when you're done using it, which is done using mongo_client.close()."
   ]
  },
  {
   "cell_type": "code",
   "execution_count": null,
   "id": "3f43e07a-4af6-4f11-9bd3-cf1529c475ae",
   "metadata": {},
   "outputs": [],
   "source": [
    "Q4. Using the database and the collection created in question number 3, write a code to insert one record,\n",
    "and insert many records. Use the find() and find_one() methods to print the inserted record."
   ]
  },
  {
   "cell_type": "code",
   "execution_count": null,
   "id": "3ccbd4b4-7711-4c5e-ab7a-eba6f3ab9b6b",
   "metadata": {},
   "outputs": [],
   "source": [
    "import pymongo\n",
    "\n",
    "# MongoDB connection parameters\n",
    "mongo_client = pymongo.MongoClient(\"mongodb://localhost:27017/\")  # Replace with your MongoDB connection string\n",
    "\n",
    "# Create or access a database\n",
    "my_database = mongo_client[\"my_database\"]\n",
    "\n",
    "# Create or access a collection within the database\n",
    "my_collection = my_database[\"my_collection\"]\n",
    "\n",
    "# Insert one record into the collection\n",
    "document_one = {\n",
    "    \"name\": \"Alice\",\n",
    "    \"age\": 25,\n",
    "    \"email\": \"alice@example.com\"\n",
    "}\n",
    "\n",
    "# Insert the document into the collection\n",
    "insert_result_one = my_collection.insert_one(document_one)\n",
    "\n",
    "# Print the ID of the inserted document\n",
    "print(\"Inserted Document ID (One):\", insert_result_one.inserted_id)\n",
    "\n",
    "# Insert many records into the collection\n",
    "documents_many = [\n",
    "    {\"name\": \"Bob\", \"age\": 28, \"email\": \"bob@example.com\"},\n",
    "    {\"name\": \"Charlie\", \"age\": 35, \"email\": \"charlie@example.com\"},\n",
    "    {\"name\": \"David\", \"age\": 30, \"email\": \"david@example.com\"}\n",
    "]\n",
    "\n",
    "# Insert the documents into the collection\n",
    "insert_result_many = my_collection.insert_many(documents_many)\n",
    "\n",
    "# Print the IDs of the inserted documents\n",
    "print(\"Inserted Document IDs (Many):\", insert_result_many.inserted_ids)\n",
    "\n",
    "# Find and print one record from the collection\n",
    "found_one = my_collection.find_one({\"name\": \"Alice\"})\n",
    "print(\"\\nFound Document (One):\", found_one)\n",
    "\n",
    "# Find and print all records from the collection\n",
    "found_many = my_collection.find()\n",
    "print(\"\\nFound Documents (Many):\")\n",
    "for document in found_many:\n",
    "    print(document)\n",
    "\n",
    "# Close the MongoDB connection\n",
    "mongo_client.close()"
   ]
  },
  {
   "cell_type": "code",
   "execution_count": null,
   "id": "0ab9d0c0-9fc0-447d-a6ba-3d507a4b48b8",
   "metadata": {},
   "outputs": [],
   "source": [
    "Q5. Explain how you can use the find() method to query the MongoDB database. Write a simple code to\n",
    "demonstrate this."
   ]
  },
  {
   "cell_type": "code",
   "execution_count": null,
   "id": "b58c52d5-8bbb-424a-9869-cda4f70bead3",
   "metadata": {},
   "outputs": [],
   "source": [
    "import pymongo\n",
    "\n",
    "# MongoDB connection parameters\n",
    "mongo_client = pymongo.MongoClient(\"mongodb://localhost:27017/\")  # Replace with your MongoDB connection string\n",
    "\n",
    "# Create or access a database\n",
    "my_database = mongo_client[\"my_database\"]\n",
    "\n",
    "# Create or access a collection within the database\n",
    "my_collection = my_database[\"my_collection\"]\n",
    "\n",
    "# Insert some sample data into the collection\n",
    "sample_data = [\n",
    "    {\"name\": \"Alice\", \"age\": 25, \"email\": \"alice@example.com\"},\n",
    "    {\"name\": \"Bob\", \"age\": 28, \"email\": \"bob@example.com\"},\n",
    "    {\"name\": \"Charlie\", \"age\": 35, \"email\": \"charlie@example.com\"},\n",
    "    {\"name\": \"David\", \"age\": 30, \"email\": \"david@example.com\"}\n",
    "]\n",
    "\n",
    "my_collection.insert_many(sample_data)\n",
    "\n",
    "# Query the collection using the find() method\n",
    "query_result = my_collection.find({\"age\": {\"$gte\": 30}})  # Retrieve documents where age is greater than or equal to 30\n",
    "\n",
    "# Print the results\n",
    "print(\"Documents with age greater than or equal to 30:\")\n",
    "for document in query_result:\n",
    "    print(document)\n",
    "\n",
    "# Close the MongoDB connection\n",
    "mongo_client.close()"
   ]
  },
  {
   "cell_type": "code",
   "execution_count": null,
   "id": "32ad3cc2-925a-448e-9ab9-47fd0605a498",
   "metadata": {},
   "outputs": [],
   "source": [
    "In this example:\n",
    "  The find() method is used with a query document to retrieve documents from the collection where the \"age\" field is greater than or equal to 30.\n",
    "  The results are printed using a loop to iterate through the cursor returned by the find() method."
   ]
  },
  {
   "cell_type": "code",
   "execution_count": null,
   "id": "2b054aca-baef-4635-86a9-2a5b27a86664",
   "metadata": {},
   "outputs": [],
   "source": [
    "Q6. Explain the sort() method. Give an example to demonstrate sorting in MongoDB.\n",
    "\n",
    "\n",
    "The sort() method in MongoDB is used to sort the documents in a collection based on one or more fields. It takes a document as an argument, where each field to be sorted is a key, and the associated value is either 1 (ascending order) or -1 (descending order). \n",
    "The sort() method returns a cursor with the sorted documents."
   ]
  },
  {
   "cell_type": "code",
   "execution_count": null,
   "id": "c3a2bad3-a017-4cb8-a10e-072d18ee0328",
   "metadata": {},
   "outputs": [],
   "source": [
    "import pymongo\n",
    "\n",
    "# MongoDB connection parameters\n",
    "mongo_client = pymongo.MongoClient(\"mongodb://localhost:27017/\")  # Replace with your MongoDB connection string\n",
    "\n",
    "# Create or access a database\n",
    "my_database = mongo_client[\"my_database\"]\n",
    "\n",
    "# Create or access a collection within the database\n",
    "my_collection = my_database[\"my_collection\"]\n",
    "\n",
    "# Insert some sample data into the collection\n",
    "sample_data = [\n",
    "    {\"name\": \"Alice\", \"age\": 25, \"email\": \"alice@example.com\"},\n",
    "    {\"name\": \"Bob\", \"age\": 28, \"email\": \"bob@example.com\"},\n",
    "    {\"name\": \"Charlie\", \"age\": 35, \"email\": \"charlie@example.com\"},\n",
    "    {\"name\": \"David\", \"age\": 30, \"email\": \"david@example.com\"}\n",
    "]\n",
    "\n",
    "my_collection.insert_many(sample_data)\n",
    "\n",
    "# Query the collection and sort the results by age in ascending order\n",
    "query_result_ascending = my_collection.find().sort(\"age\", 1)\n",
    "\n",
    "# Print the results\n",
    "print(\"Documents sorted by age in ascending order:\")\n",
    "for document in query_result_ascending:\n",
    "    print(document)\n",
    "\n",
    "# Query the collection and sort the results by age in descending order\n",
    "query_result_descending = my_collection.find().sort(\"age\", -1)\n",
    "\n",
    "# Print the results\n",
    "print(\"\\nDocuments sorted by age in descending order:\")\n",
    "for document in query_result_descending:\n",
    "    print(document)\n",
    "\n",
    "# Close the MongoDB connection\n",
    "mongo_client.close()"
   ]
  },
  {
   "cell_type": "code",
   "execution_count": null,
   "id": "07ac469f-b944-4bc9-9805-f0d727416a86",
   "metadata": {},
   "outputs": [],
   "source": [
    "In this example:\n",
    "The find() method is used without a query document to retrieve all documents from the collection.\n",
    "The sort() method is applied to the cursor returned by find() to specify the sorting order. In the first query, the documents are sorted by the \"age\" field in ascending order (1), and in the second query, they are sorted in descending order (-1).\n",
    "The results are printed using a loop to iterate through the cursor."
   ]
  },
  {
   "cell_type": "code",
   "execution_count": null,
   "id": "91b15fd2-999e-4ed9-a07b-fff7cbfc6ccd",
   "metadata": {},
   "outputs": [],
   "source": [
    "Q7. Explain why delete_one(), delete_many(), and drop() is used."
   ]
  },
  {
   "cell_type": "code",
   "execution_count": null,
   "id": "b9e61d87-b437-4218-9569-4e2de9841e85",
   "metadata": {},
   "outputs": [],
   "source": [
    "In MongoDB, the methods delete_one(), delete_many(), and drop() are used to remove documents from a collection or to delete an entire collection. Let's explore each of these methods:\n",
    "\n",
    "1.delete_one(filter) Method:\n",
    "  The delete_one() method is used to delete a single document from a collection that matches the specified filter criteria.\n",
    "  It takes a filter document as an argument, specifying the criteria for the deletion. If multiple documents match the filter, only the first one encountered will be deleted.\n",
    "    \n",
    "2.delete_many(filter) Method:\n",
    "  The delete_many() method is used to delete multiple documents from a collection that match the specified filter criteria.\n",
    "  It takes a filter document as an argument, and all documents matching the filter will be deleted.\n",
    "    \n",
    "3.drop() Method:\n",
    "  The drop() method is used to remove an entire collection from the database. This operation irreversibly removes all documents and indexes from the collection.    "
   ]
  },
  {
   "cell_type": "code",
   "execution_count": null,
   "id": "cc312568-e641-4fda-9bbc-f28877da7a90",
   "metadata": {},
   "outputs": [],
   "source": []
  }
 ],
 "metadata": {
  "kernelspec": {
   "display_name": "Python 3 (ipykernel)",
   "language": "python",
   "name": "python3"
  },
  "language_info": {
   "codemirror_mode": {
    "name": "ipython",
    "version": 3
   },
   "file_extension": ".py",
   "mimetype": "text/x-python",
   "name": "python",
   "nbconvert_exporter": "python",
   "pygments_lexer": "ipython3",
   "version": "3.10.8"
  }
 },
 "nbformat": 4,
 "nbformat_minor": 5
}
